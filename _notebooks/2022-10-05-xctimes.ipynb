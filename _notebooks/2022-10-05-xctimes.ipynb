{
 "cells": [
  {
   "cell_type": "code",
   "execution_count": 13,
   "metadata": {},
   "outputs": [],
   "source": [
    "def format_results(resultsin, resultsout):\n",
    "    newList = []\n",
    "    final = []\n",
    "    counter = 0\n",
    "    f = open(resultsin)\n",
    "    for x in f.readlines():\n",
    "        if counter == 0:\n",
    "            newString = x.rstrip()\n",
    "            counter = 1\n",
    "        else:\n",
    "            newString = newString + \"\\t\" + x.rstrip()\n",
    "            counter = 0\n",
    "            newList.append(newString)\n",
    "    \n",
    "    for i in newList:\n",
    "        i = i.replace(\".\",\":\")\n",
    "        id = i.rsplit(\"\\t\")\n",
    "        id.pop(0)\n",
    "        id.pop(0) #comment out for single place\n",
    "        id.pop(2)\n",
    "        final.append(id)\n",
    "    f.close()\n",
    "\n",
    "    with open(resultsout, \"w\") as f:\n",
    "        for line in final:\n",
    "            f.write(line[1] + \"\\t\" + line[0] + \"\\t\" + line[3] + \"\\t\" + line[2] + \"0\" + \"\\n\")\n",
    "    f.close()\n",
    "\n",
    "format_results(\"text_files/test.txt\", \"text_files/kitcarson.txt\")"
   ]
  }
 ],
 "metadata": {
  "kernelspec": {
   "display_name": "Python 3.9.12 ('base')",
   "language": "python",
   "name": "python3"
  },
  "language_info": {
   "codemirror_mode": {
    "name": "ipython",
    "version": 3
   },
   "file_extension": ".py",
   "mimetype": "text/x-python",
   "name": "python",
   "nbconvert_exporter": "python",
   "pygments_lexer": "ipython3",
   "version": "3.9.12"
  },
  "orig_nbformat": 4,
  "vscode": {
   "interpreter": {
    "hash": "65f6bdf080211a4261ca30203f2967d5d410cd9d47d7b7e5694003092334a949"
   }
  }
 },
 "nbformat": 4,
 "nbformat_minor": 2
}
