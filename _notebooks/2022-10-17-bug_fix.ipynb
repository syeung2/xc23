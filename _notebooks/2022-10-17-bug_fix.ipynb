{
 "cells": [
  {
   "cell_type": "markdown",
   "metadata": {},
   "source": [
    "# Javascript Web Page using an API\n",
    "> A discussion on the frontend usage of an API. This is about creating a page that is well organized and updates based on the backend code created for the api.\n",
    "\n",
    "- toc: true\n",
    "- comments: false\n",
    "- permalink: /jswp\n",
    "- image:"
   ]
  }
 ],
 "metadata": {
  "kernelspec": {
   "display_name": "Python 3.9.12 ('base')",
   "language": "python",
   "name": "python3"
  },
  "language_info": {
   "name": "python",
   "version": "3.9.12"
  },
  "orig_nbformat": 4,
  "vscode": {
   "interpreter": {
    "hash": "65f6bdf080211a4261ca30203f2967d5d410cd9d47d7b7e5694003092334a949"
   }
  }
 },
 "nbformat": 4,
 "nbformat_minor": 2
}
