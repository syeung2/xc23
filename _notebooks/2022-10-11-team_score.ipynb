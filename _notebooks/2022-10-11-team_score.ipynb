{
 "cells": [
  {
   "cell_type": "code",
   "execution_count": 2,
   "metadata": {},
   "outputs": [
    {
     "ename": "TclError",
     "evalue": "no display name and no $DISPLAY environment variable",
     "output_type": "error",
     "traceback": [
      "\u001b[0;31m---------------------------------------------------------------------------\u001b[0m",
      "\u001b[0;31mTclError\u001b[0m                                  Traceback (most recent call last)",
      "\u001b[1;32m/home/syeung2/vscode/xc22/_notebooks/2022-10-11-team_score.ipynb Cell 1\u001b[0m in \u001b[0;36m<cell line: 3>\u001b[0;34m()\u001b[0m\n\u001b[1;32m      <a href='vscode-notebook-cell://wsl%2Bubuntu/home/syeung2/vscode/xc22/_notebooks/2022-10-11-team_score.ipynb#W1sdnNjb2RlLXJlbW90ZQ%3D%3D?line=0'>1</a>\u001b[0m \u001b[39mimport\u001b[39;00m \u001b[39mtkinter\u001b[39;00m \u001b[39mas\u001b[39;00m \u001b[39mtk\u001b[39;00m\n\u001b[0;32m----> <a href='vscode-notebook-cell://wsl%2Bubuntu/home/syeung2/vscode/xc22/_notebooks/2022-10-11-team_score.ipynb#W1sdnNjb2RlLXJlbW90ZQ%3D%3D?line=2'>3</a>\u001b[0m window \u001b[39m=\u001b[39m tk\u001b[39m.\u001b[39;49mTk()\n",
      "File \u001b[0;32m~/anaconda3/lib/python3.9/tkinter/__init__.py:2270\u001b[0m, in \u001b[0;36mTk.__init__\u001b[0;34m(self, screenName, baseName, className, useTk, sync, use)\u001b[0m\n\u001b[1;32m   2268\u001b[0m         baseName \u001b[39m=\u001b[39m baseName \u001b[39m+\u001b[39m ext\n\u001b[1;32m   2269\u001b[0m interactive \u001b[39m=\u001b[39m \u001b[39mFalse\u001b[39;00m\n\u001b[0;32m-> 2270\u001b[0m \u001b[39mself\u001b[39m\u001b[39m.\u001b[39mtk \u001b[39m=\u001b[39m _tkinter\u001b[39m.\u001b[39;49mcreate(screenName, baseName, className, interactive, wantobjects, useTk, sync, use)\n\u001b[1;32m   2271\u001b[0m \u001b[39mif\u001b[39;00m useTk:\n\u001b[1;32m   2272\u001b[0m     \u001b[39mself\u001b[39m\u001b[39m.\u001b[39m_loadtk()\n",
      "\u001b[0;31mTclError\u001b[0m: no display name and no $DISPLAY environment variable"
     ]
    }
   ],
   "source": [
    "import tkinter as tk\n",
    "\n",
    "window = tk.Tk()\n"
   ]
  },
  {
   "cell_type": "code",
   "execution_count": 27,
   "metadata": {},
   "outputs": [
    {
     "name": "stdout",
     "output_type": "stream",
     "text": [
      "[1, 7, 8, 9, 10]\n",
      "[2, 3, 4, 5, 6]\n",
      "[('a', 35), ('b', 20)]\n"
     ]
    }
   ],
   "source": [
    "def get_meet_scores():\n",
    "    teamList = {}\n",
    "    team = \"\"\n",
    "    count = 1\n",
    "    scores = []\n",
    "    exists = 0\n",
    "    final = []\n",
    "\n",
    "    while team != \"done\":\n",
    "        team = input()\n",
    "        if team != \"done\":\n",
    "            if len(teamList.keys()) == 0:\n",
    "                scores.append(count)\n",
    "                count += 1\n",
    "                teamList.update({team:scores}) \n",
    "            else:\n",
    "                for key in teamList.keys(): \n",
    "                    if team == key:\n",
    "                        exists = 1\n",
    "                        scores = teamList[team]\n",
    "                        if len(scores) < 7:\n",
    "                            scores.append(count)\n",
    "                            count += 1\n",
    "                if exists == 0:\n",
    "                    scores = []\n",
    "                    scores.append(count)\n",
    "                    count += 1 \n",
    "                exists = 0           \n",
    "                teamList.update({team:scores}) \n",
    "\n",
    "    for k,v in teamList.items():\n",
    "        print(v)\n",
    "        if len(v) > 4:\n",
    "            score = v[0] + v[1] + v[2] + v[3] + v[4]\n",
    "            final.append((k, score))\n",
    "    \n",
    "    print(final)\n",
    "\n",
    "get_meet_scores()"
   ]
  }
 ],
 "metadata": {
  "kernelspec": {
   "display_name": "Python 3.9.12 ('base')",
   "language": "python",
   "name": "python3"
  },
  "language_info": {
   "codemirror_mode": {
    "name": "ipython",
    "version": 3
   },
   "file_extension": ".py",
   "mimetype": "text/x-python",
   "name": "python",
   "nbconvert_exporter": "python",
   "pygments_lexer": "ipython3",
   "version": "3.9.12"
  },
  "orig_nbformat": 4,
  "vscode": {
   "interpreter": {
    "hash": "65f6bdf080211a4261ca30203f2967d5d410cd9d47d7b7e5694003092334a949"
   }
  }
 },
 "nbformat": 4,
 "nbformat_minor": 2
}
