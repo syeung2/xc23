{
 "cells": [
  {
   "cell_type": "code",
   "execution_count": 6,
   "metadata": {},
   "outputs": [
    {
     "name": "stdout",
     "output_type": "stream",
     "text": [
      "1199.78\n",
      "1224.03\n",
      "1264.99\n",
      "1273.54\n",
      "1318.37\n",
      "1326.42\n",
      "1395.4\n",
      "1192.24\n",
      "1262.54\n",
      "1287.35\n",
      "1291.59\n",
      "1308.25\n"
     ]
    }
   ],
   "source": [
    "def time_in_seconds(time):\n",
    "    splits = time.split(\":\")\n",
    "    seconds = float(splits[0]) * 60 + float(splits[1]) \n",
    "    return seconds\n",
    "\n",
    "def file_to_seconds(file):\n",
    "    times = []\n",
    "    f = open(file)\n",
    "    for x in f.readlines():\n",
    "        times.append(time_in_seconds(x))\n",
    "    f.close()\n",
    "    return times\n",
    "\n",
    "def print_lines(times):\n",
    "    for i in times:\n",
    "        print(i)\n",
    "\n",
    "print_lines(file_to_seconds(\"text_files/test.txt\"))"
   ]
  },
  {
   "cell_type": "code",
   "execution_count": 7,
   "metadata": {},
   "outputs": [
    {
     "name": "stdout",
     "output_type": "stream",
     "text": [
      "17:35.87\n",
      "17:36.65\n",
      "17:42.43\n",
      "17:43.7\n",
      "18:04.62\n",
      "18:17.54\n",
      "18:21.21\n",
      "18:22.92\n",
      "18:25.39\n",
      "18:26.19\n",
      "18:43.2\n",
      "18:43.67\n",
      "18:43.96\n",
      "18:44.63\n",
      "18:49.71\n",
      "18:54.1\n",
      "19:03.13\n",
      "19:09.34\n",
      "19:12.16\n",
      "19:20.43\n",
      "19:26.07\n",
      "19:41.34\n",
      "19:41.83\n",
      "19:44.12\n",
      "19:53.66\n",
      "19:55.68\n",
      "20:01.57\n",
      "20:05.27\n",
      "20:09.14\n",
      "20:09.78\n",
      "20:32.39\n",
      "20:32.9\n",
      "20:35.82\n",
      "20:50.29\n",
      "20:57.06\n",
      "21:12.34\n",
      "21:13.51\n",
      "21:42.56\n",
      "21:50.49\n",
      "21:58.11\n",
      "23:27.46\n",
      "19:11.79\n",
      "19:35.07\n",
      "20:14.39\n",
      "20:22.6\n",
      "21:05.64\n",
      "21:13.36\n",
      "22:19.58\n",
      "19:04.55\n",
      "20:12.04\n",
      "20:35.86\n",
      "20:39.93\n",
      "20:55.92\n"
     ]
    }
   ],
   "source": [
    "def time_in_minutes(time):\n",
    "    time = float(time) / 60\n",
    "    timeCo = str(time)\n",
    "    timeCo = timeCo.split(\".\")\n",
    "    minutes = timeCo[0]\n",
    "    seconds = \"0.\" + str(timeCo[1]) \n",
    "    seconds = float(seconds) * 60\n",
    "    seconds = round(seconds,2)\n",
    "    if seconds > 10:\n",
    "        times = str(minutes) + \":\" + str(seconds)\n",
    "    else:\n",
    "        times = str(minutes) + \":0\" + str(seconds)\n",
    "    return times\n",
    "\n",
    "def file_to_minutes(file):\n",
    "    times = []\n",
    "    f = open(file)\n",
    "    for x in f.readlines():\n",
    "        times.append(time_in_minutes(x))\n",
    "    f.close()\n",
    "    return times\n",
    "\n",
    "def print_lines(times):\n",
    "    for i in times:\n",
    "        print(i)\n",
    "\n",
    "print_lines(file_to_minutes(\"text_files/test.txt\"))\n"
   ]
  }
 ],
 "metadata": {
  "kernelspec": {
   "display_name": "Python 3.9.12 ('base')",
   "language": "python",
   "name": "python3"
  },
  "language_info": {
   "codemirror_mode": {
    "name": "ipython",
    "version": 3
   },
   "file_extension": ".py",
   "mimetype": "text/x-python",
   "name": "python",
   "nbconvert_exporter": "python",
   "pygments_lexer": "ipython3",
   "version": "3.9.12"
  },
  "orig_nbformat": 4,
  "vscode": {
   "interpreter": {
    "hash": "65f6bdf080211a4261ca30203f2967d5d410cd9d47d7b7e5694003092334a949"
   }
  }
 },
 "nbformat": 4,
 "nbformat_minor": 2
}
