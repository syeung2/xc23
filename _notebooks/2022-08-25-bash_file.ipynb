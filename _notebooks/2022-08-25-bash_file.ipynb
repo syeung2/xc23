{
 "cells": [
  {
   "cell_type": "markdown",
   "metadata": {},
   "source": [
    "# My Bash File\n",
    "> Tests using bash commands\n",
    "\n",
    "- toc: true \n",
    "- badges: true\n",
    "- comments: true\n",
    "- categories: [jupyter]\n",
    "- image: "
   ]
  },
  {
   "cell_type": "code",
   "execution_count": 1,
   "metadata": {
    "vscode": {
     "languageId": "shellscript"
    }
   },
   "outputs": [
    {
     "name": "stdout",
     "output_type": "stream",
     "text": [
      "Using conditional statement to create a project directory and project\n",
      "Directory /home/syeung2/vscode exists.\n",
      "Directory /home/syeung2/vscode/APCSP does not exists... cloning https://github.com/nighthawkcoders/APCSP.git\n",
      "Cloning into 'APCSP'...\n",
      "remote: Enumerating objects: 9173, done.\u001b[K\n",
      "remote: Counting objects: 100% (748/748), done.\u001b[K\n",
      "remote: Compressing objects: 100% (313/313), done.\u001b[K\n",
      "remote: Total 9173 (delta 454), reused 702 (delta 414), pack-reused 8425\u001b[K\n",
      "Receiving objects: 100% (9173/9173), 16.49 MiB | 12.58 MiB/s, done.\n",
      "Resolving deltas: 100% (4949/4949), done.\n",
      "Directory /home/syeung2/vscode/APCSP exists.\n"
     ]
    }
   ],
   "source": [
    "echo \"Using conditional statement to create a project directory and project\"\n",
    "\n",
    "# Variable section\n",
    "export project_dir=$HOME/vscode  # change vscode to different name to test git clone\n",
    "export project=$project_dir/APCSP  # change APCSP to name of project from git clone\n",
    "export project_repo=\"https://github.com/nighthawkcoders/APCSP.git\"  # change to project of choice\n",
    "\n",
    "cd ~    # start in home directory\n",
    "\n",
    "# Conditional block to make a project directory\n",
    "if [ ! -d $project_dir ]\n",
    "then \n",
    "    echo \"Directory $project_dir does not exists... makinng directory $project_dir\"\n",
    "    mkdir -p $project_dir\n",
    "fi\n",
    "echo \"Directory $project_dir exists.\" \n",
    "\n",
    "# Conditional block to git clone a project from project_repo\n",
    "if [ ! -d $project ]\n",
    "then\n",
    "    echo \"Directory $project does not exists... cloning $project_repo\"\n",
    "    cd $project_dir\n",
    "    git clone $project_repo\n",
    "    cd ~\n",
    "fi\n",
    "echo \"Directory $project exists.\""
   ]
  },
  {
   "cell_type": "code",
   "execution_count": 2,
   "metadata": {
    "vscode": {
     "languageId": "shellscript"
    }
   },
   "outputs": [
    {
     "name": "stdout",
     "output_type": "stream",
     "text": [
      "Navigate to project, then navigate to area wwhere files were cloned\n",
      "/home/syeung2/vscode/APCSP\n",
      "\n",
      "list top level or root of files with project pulled from github\n",
      "\u001b[0m\u001b[01;32mGemfile\u001b[0m    \u001b[01;34m_action_files\u001b[0m    \u001b[01;34m_layouts\u001b[0m    \u001b[01;34m_posts\u001b[0m  \u001b[01;32mdocker-compose.yml\u001b[0m\n",
      "LICENSE    _config.yml      \u001b[01;34m_notebooks\u001b[0m  \u001b[01;34m_sass\u001b[0m   \u001b[01;34mimages\u001b[0m\n",
      "\u001b[01;32mMakefile\u001b[0m   \u001b[01;34m_fastpages_docs\u001b[0m  \u001b[01;34m_pages\u001b[0m      \u001b[01;34m_word\u001b[0m   index.html\n",
      "\u001b[01;32mREADME.md\u001b[0m  \u001b[01;34m_includes\u001b[0m        \u001b[01;34m_plugins\u001b[0m    \u001b[01;34massets\u001b[0m  \u001b[01;34mpython\u001b[0m\n",
      "\n",
      "list again with hidden files pulled from github\n",
      "\u001b[0m\u001b[01;34m.\u001b[0m                   .gitignore  \u001b[01;34m_action_files\u001b[0m    \u001b[01;34m_pages\u001b[0m    \u001b[01;32mdocker-compose.yml\u001b[0m\n",
      "\u001b[01;34m..\u001b[0m                  \u001b[01;34m.vscode\u001b[0m     _config.yml      \u001b[01;34m_plugins\u001b[0m  \u001b[01;34mimages\u001b[0m\n",
      ".devcontainer.json  \u001b[01;32mGemfile\u001b[0m     \u001b[01;34m_fastpages_docs\u001b[0m  \u001b[01;34m_posts\u001b[0m    index.html\n",
      "\u001b[01;34m.git\u001b[0m                LICENSE     \u001b[01;34m_includes\u001b[0m        \u001b[01;34m_sass\u001b[0m     \u001b[01;34mpython\u001b[0m\n",
      ".gitattributes      \u001b[01;32mMakefile\u001b[0m    \u001b[01;34m_layouts\u001b[0m         \u001b[01;34m_word\u001b[0m\n",
      "\u001b[01;34m.github\u001b[0m             \u001b[01;32mREADME.md\u001b[0m   \u001b[01;34m_notebooks\u001b[0m       \u001b[01;34massets\u001b[0m\n",
      "\n",
      "list all files in long format\n",
      "total 120\n",
      "drwxr-xr-x 18 syeung2 syeung2  4096 Aug 25 22:34 \u001b[0m\u001b[01;34m.\u001b[0m\n",
      "drwxr-xr-x  4 syeung2 syeung2  4096 Aug 25 22:34 \u001b[01;34m..\u001b[0m\n",
      "-rw-r--r--  1 syeung2 syeung2   420 Aug 25 22:34 .devcontainer.json\n",
      "drwxr-xr-x  8 syeung2 syeung2  4096 Aug 25 22:34 \u001b[01;34m.git\u001b[0m\n",
      "-rw-r--r--  1 syeung2 syeung2    84 Aug 25 22:34 .gitattributes\n",
      "drwxr-xr-x  4 syeung2 syeung2  4096 Aug 25 22:34 \u001b[01;34m.github\u001b[0m\n",
      "-rw-r--r--  1 syeung2 syeung2   917 Aug 25 22:34 .gitignore\n",
      "drwxr-xr-x  2 syeung2 syeung2  4096 Aug 25 22:34 \u001b[01;34m.vscode\u001b[0m\n",
      "-rwxr-xr-x  1 syeung2 syeung2  1304 Aug 25 22:34 \u001b[01;32mGemfile\u001b[0m\n",
      "-rw-r--r--  1 syeung2 syeung2 11351 Aug 25 22:34 LICENSE\n",
      "-rwxr-xr-x  1 syeung2 syeung2  1422 Aug 25 22:34 \u001b[01;32mMakefile\u001b[0m\n",
      "-rwxr-xr-x  1 syeung2 syeung2  3614 Aug 25 22:34 \u001b[01;32mREADME.md\u001b[0m\n",
      "drwxr-xr-x  2 syeung2 syeung2  4096 Aug 25 22:34 \u001b[01;34m_action_files\u001b[0m\n",
      "-rw-r--r--  1 syeung2 syeung2  3716 Aug 25 22:34 _config.yml\n",
      "drwxr-xr-x  2 syeung2 syeung2  4096 Aug 25 22:34 \u001b[01;34m_fastpages_docs\u001b[0m\n",
      "drwxr-xr-x  2 syeung2 syeung2  4096 Aug 25 22:34 \u001b[01;34m_includes\u001b[0m\n",
      "drwxr-xr-x  2 syeung2 syeung2  4096 Aug 25 22:34 \u001b[01;34m_layouts\u001b[0m\n",
      "drwxr-xr-x  3 syeung2 syeung2  4096 Aug 25 22:34 \u001b[01;34m_notebooks\u001b[0m\n",
      "drwxr-xr-x  2 syeung2 syeung2  4096 Aug 25 22:34 \u001b[01;34m_pages\u001b[0m\n",
      "drwxr-xr-x  2 syeung2 syeung2  4096 Aug 25 22:34 \u001b[01;34m_plugins\u001b[0m\n",
      "drwxr-xr-x  2 syeung2 syeung2  4096 Aug 25 22:34 \u001b[01;34m_posts\u001b[0m\n",
      "drwxr-xr-x  3 syeung2 syeung2  4096 Aug 25 22:34 \u001b[01;34m_sass\u001b[0m\n",
      "drwxr-xr-x  2 syeung2 syeung2  4096 Aug 25 22:34 \u001b[01;34m_word\u001b[0m\n",
      "drwxr-xr-x  4 syeung2 syeung2  4096 Aug 25 22:34 \u001b[01;34massets\u001b[0m\n",
      "-rwxr-xr-x  1 syeung2 syeung2  1136 Aug 25 22:34 \u001b[01;32mdocker-compose.yml\u001b[0m\n",
      "drwxr-xr-x  5 syeung2 syeung2  4096 Aug 25 22:34 \u001b[01;34mimages\u001b[0m\n",
      "-rw-r--r--  1 syeung2 syeung2  1061 Aug 25 22:34 index.html\n",
      "drwxr-xr-x  2 syeung2 syeung2  4096 Aug 25 22:34 \u001b[01;34mpython\u001b[0m\n"
     ]
    }
   ],
   "source": [
    "echo \"Navigate to project, then navigate to area wwhere files were cloned\"\n",
    "cd $project\n",
    "pwd\n",
    "\n",
    "echo \"\"\n",
    "echo \"list top level or root of files with project pulled from github\"\n",
    "ls\n",
    "\n",
    "echo \"\"\n",
    "echo \"list again with hidden files pulled from github\"\n",
    "ls -a   # hidden files flag, many shell commands have flags\n",
    "\n",
    "echo \"\"\n",
    "echo \"list all files in long format\"\n",
    "ls -al   # all files and long listing"
   ]
  },
  {
   "cell_type": "code",
   "execution_count": 3,
   "metadata": {
    "vscode": {
     "languageId": "shellscript"
    }
   },
   "outputs": [
    {
     "name": "stdout",
     "output_type": "stream",
     "text": [
      "“”\n"
     ]
    }
   ],
   "source": [
    "# test for a kernel installation\n",
    "test=“python3” # keyword\n",
    "check=`jupyter kernelspec list | grep $test` # run command\n",
    "n=${#check} # determine length\n",
    "if [[ ${n} > 0 ]];  # testt length\n",
    "then # greater than zero\n",
    "    echo “$check”\n",
    "else # less than zero\n",
    "    echo “$check”\n",
    "fi"
   ]
  },
  {
   "cell_type": "code",
   "execution_count": 4,
   "metadata": {
    "vscode": {
     "languageId": "shellscript"
    }
   },
   "outputs": [
    {
     "name": "stdout",
     "output_type": "stream",
     "text": [
      "Look for posts\n",
      "/home/syeung2/vscode/APCSP/_posts\n",
      "total 228\n",
      "-rw-r--r-- 1 syeung2 syeung2 21306 Aug 25 22:34 2022-06-01-TT160-deploy.md\n",
      "-rw-r--r-- 1 syeung2 syeung2  5861 Aug 25 22:34 2022-07-07-PBL-binary.md\n",
      "-rw-r--r-- 1 syeung2 syeung2  3085 Aug 25 22:34 2022-07-08-PBL-grade_calc.md\n",
      "-rw-r--r-- 1 syeung2 syeung2  3698 Aug 25 22:34 2022-07-08-PBL-graph.md\n",
      "-rw-r--r-- 1 syeung2 syeung2  5729 Aug 25 22:34 2022-07-08-PBL-life.md\n",
      "-rw-r--r-- 1 syeung2 syeung2 14387 Aug 25 22:34 2022-07-08-PBL-snake.md\n",
      "-rw-r--r-- 1 syeung2 syeung2   334 Aug 25 22:34 2022-07-10-PBL-database.md\n",
      "-rw-r--r-- 1 syeung2 syeung2  2908 Aug 25 22:34 2022-07-10-PBL-jokes.md\n",
      "-rw-r--r-- 1 syeung2 syeung2  4046 Aug 25 22:34 2022-07-10-PBL-rapidapi.md\n",
      "-rw-r--r-- 1 syeung2 syeung2  6685 Aug 25 22:34 2022-07-19-PBL-calculator.md\n",
      "-rw-r--r-- 1 syeung2 syeung2 23325 Aug 25 22:34 2022-07-25-CSP-workshop.md\n",
      "-rw-r--r-- 1 syeung2 syeung2  2333 Aug 25 22:34 2022-08-15-TP000-student_score_history.md\n",
      "-rw-r--r-- 1 syeung2 syeung2  4363 Aug 25 22:34 2022-08-15-TP100-pseudo_code.md\n",
      "-rw-r--r-- 1 syeung2 syeung2  7968 Aug 25 22:34 2022-08-15-TR100-tool_setup.md\n",
      "-rw-r--r-- 1 syeung2 syeung2 15409 Aug 25 22:34 2022-08-15-TT100-tools.md\n",
      "-rw-r--r-- 1 syeung2 syeung2  5590 Aug 25 22:34 2022-08-15-TT101-vscode-wsl.md\n",
      "-rw-r--r-- 1 syeung2 syeung2  2155 Aug 25 22:34 2022-08-22-TR110-intro_python.md\n",
      "-rw-r--r-- 1 syeung2 syeung2  5173 Aug 25 22:34 2022-08-22-TT110-fastpages.md\n",
      "-rw-r--r-- 1 syeung2 syeung2  2798 Aug 25 22:34 2022-08-22-TT110-focus.md\n",
      "-rw-r--r-- 1 syeung2 syeung2  2737 Aug 25 22:34 2022-08-29-TR120-data_abstract.md\n",
      "-rw-r--r-- 1 syeung2 syeung2 10683 Aug 25 22:34 2022-08-29-TT120-agile.md\n",
      "-rw-r--r-- 1 syeung2 syeung2  4498 Aug 25 22:34 2022-08-29-TT120-html_fragments.md\n",
      "-rw-r--r-- 1 syeung2 syeung2  9037 Aug 25 22:34 2022-09-05-TP130-create_performance_task.md\n",
      "-rw-r--r-- 1 syeung2 syeung2  7753 Aug 25 22:34 2022-09-05-TP131-create-task-bria.md\n",
      "-rw-r--r-- 1 syeung2 syeung2  8066 Aug 25 22:34 2022-09-05-TR130-creative_development.md\n",
      "-rw-r--r-- 1 syeung2 syeung2  3520 Aug 25 22:34 2022-09-05-TT130-applab.md\n",
      "-rw-r--r-- 1 syeung2 syeung2   720 Aug 25 22:34 README.md\n"
     ]
    }
   ],
   "source": [
    "echo \"Look for posts\"\n",
    "export posts=$project/_posts  # _posts inside project\n",
    "cd $posts  # this should exist per fastpages\n",
    "pwd  # present working directory\n",
    "ls -l  # list posts"
   ]
  }
 ],
 "metadata": {
  "kernelspec": {
   "display_name": "Python 3.8.10 64-bit",
   "language": "python",
   "name": "python3"
  },
  "language_info": {
   "codemirror_mode": "shell",
   "file_extension": ".sh",
   "mimetype": "text/x-sh",
   "name": "python",
   "version": "3.8.10"
  },
  "orig_nbformat": 4,
  "vscode": {
   "interpreter": {
    "hash": "916dbcbb3f70747c44a77c7bcd40155683ae19c65e1c03b4aa3499c5328201f1"
   }
  }
 },
 "nbformat": 4,
 "nbformat_minor": 2
}
